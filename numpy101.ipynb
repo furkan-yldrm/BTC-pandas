{
 "cells": [
  {
   "cell_type": "code",
   "execution_count": 1,
   "id": "753c4a61-1074-403d-9df0-5ff8c0f6a131",
   "metadata": {},
   "outputs": [],
   "source": [
    "import numpy as np"
   ]
  },
  {
   "cell_type": "code",
   "execution_count": 27,
   "id": "6891a7b6-1b5f-4c01-bcae-2a77d083f85b",
   "metadata": {},
   "outputs": [
    {
     "data": {
      "text/plain": [
       "array([ 0,  1,  2,  3,  4,  5,  6,  7,  8,  9, 10, 11])"
      ]
     },
     "execution_count": 27,
     "metadata": {},
     "output_type": "execute_result"
    }
   ],
   "source": [
    "np.arange(0,12) #ardışıık dizi"
   ]
  },
  {
   "cell_type": "code",
   "execution_count": 30,
   "id": "d61e191c-695e-474e-96d1-ed0b257cd0fc",
   "metadata": {},
   "outputs": [
    {
     "data": {
      "text/plain": [
       "array([15, 12,  9,  6])"
      ]
     },
     "execution_count": 30,
     "metadata": {},
     "output_type": "execute_result"
    }
   ],
   "source": [
    "np.arange(15,5,-3) #15'ten başla 5'e kadar 3er geri yazdır."
   ]
  },
  {
   "cell_type": "code",
   "execution_count": 31,
   "id": "c3244ef0-8355-42c6-9f55-e2162ae4ab8b",
   "metadata": {},
   "outputs": [
    {
     "data": {
      "text/plain": [
       "array([1.        , 1.02040816, 1.04081633, 1.06122449, 1.08163265,\n",
       "       1.10204082, 1.12244898, 1.14285714, 1.16326531, 1.18367347,\n",
       "       1.20408163, 1.2244898 , 1.24489796, 1.26530612, 1.28571429,\n",
       "       1.30612245, 1.32653061, 1.34693878, 1.36734694, 1.3877551 ,\n",
       "       1.40816327, 1.42857143, 1.44897959, 1.46938776, 1.48979592,\n",
       "       1.51020408, 1.53061224, 1.55102041, 1.57142857, 1.59183673,\n",
       "       1.6122449 , 1.63265306, 1.65306122, 1.67346939, 1.69387755,\n",
       "       1.71428571, 1.73469388, 1.75510204, 1.7755102 , 1.79591837,\n",
       "       1.81632653, 1.83673469, 1.85714286, 1.87755102, 1.89795918,\n",
       "       1.91836735, 1.93877551, 1.95918367, 1.97959184, 2.        ])"
      ]
     },
     "execution_count": 31,
     "metadata": {},
     "output_type": "execute_result"
    }
   ],
   "source": [
    "np.linspace(1,2) #50 noktaya bölüyor"
   ]
  },
  {
   "cell_type": "code",
   "execution_count": 34,
   "id": "0222b50a-9e02-4167-9baa-5e9cedfc5436",
   "metadata": {},
   "outputs": [
    {
     "data": {
      "text/plain": [
       "array([[[3, 9, 6, 6],\n",
       "        [2, 7, 9, 6],\n",
       "        [9, 1, 2, 2],\n",
       "        [4, 9, 1, 9]],\n",
       "\n",
       "       [[5, 6, 8, 2],\n",
       "        [7, 7, 4, 7],\n",
       "        [9, 6, 3, 3],\n",
       "        [1, 9, 8, 4]],\n",
       "\n",
       "       [[9, 6, 3, 9],\n",
       "        [6, 3, 8, 4],\n",
       "        [2, 2, 7, 3],\n",
       "        [3, 5, 3, 7]]], dtype=int32)"
      ]
     },
     "execution_count": 34,
     "metadata": {},
     "output_type": "execute_result"
    }
   ],
   "source": [
    "np.random.randint(1,10, (3,4,4)) #random dizi"
   ]
  },
  {
   "cell_type": "code",
   "execution_count": 35,
   "id": "e2818361-e5c6-4d6e-8732-47c243bce548",
   "metadata": {},
   "outputs": [],
   "source": [
    "d = {}\n",
    "for _ in range(20000):\n",
    "    val = np.random.randint(1,11)\n",
    "\n",
    "    if val not in d:\n",
    "        d[val] = 1\n",
    "    else:\n",
    "        d[val] += 1"
   ]
  },
  {
   "cell_type": "code",
   "execution_count": 36,
   "id": "7eb1cbf8-73f9-4e7c-8891-76b41e08566e",
   "metadata": {},
   "outputs": [
    {
     "data": {
      "text/plain": [
       "{8: 2030,\n",
       " 7: 1964,\n",
       " 1: 1993,\n",
       " 10: 1980,\n",
       " 4: 1992,\n",
       " 5: 2001,\n",
       " 9: 2058,\n",
       " 6: 2033,\n",
       " 3: 1967,\n",
       " 2: 1982}"
      ]
     },
     "execution_count": 36,
     "metadata": {},
     "output_type": "execute_result"
    }
   ],
   "source": [
    "d # döngü 20000 kez dönüyor oluşturulan d dictionary içerisine 1'den 10'a kadar olan sayıların kaç kez geldiği kaydediliyor."
   ]
  },
  {
   "cell_type": "code",
   "execution_count": 38,
   "id": "8753b234-73c1-4c2e-9efd-adea19896e31",
   "metadata": {},
   "outputs": [
    {
     "data": {
      "text/plain": [
       "array([[1., 0., 0., 0.],\n",
       "       [0., 1., 0., 0.],\n",
       "       [0., 0., 1., 0.]])"
      ]
     },
     "execution_count": 38,
     "metadata": {},
     "output_type": "execute_result"
    }
   ],
   "source": [
    "np.eye(3,3) #identity(birim) matris"
   ]
  },
  {
   "cell_type": "code",
   "execution_count": 5,
   "id": "eb57c0ba-4a27-4e56-9345-9c7603e7095d",
   "metadata": {},
   "outputs": [
    {
     "data": {
      "text/plain": [
       "array([ 4, 10, 18])"
      ]
     },
     "execution_count": 5,
     "metadata": {},
     "output_type": "execute_result"
    }
   ],
   "source": [
    "x1 = np.array([1, 2, 3])\n",
    "x2 = np.array([4, 5, 6])\n",
    "#array çarpım\n",
    "x1 * x2"
   ]
  },
  {
   "cell_type": "code",
   "execution_count": 41,
   "id": "8d540a91-cd74-4d3c-8e83-2305835c103e",
   "metadata": {},
   "outputs": [
    {
     "data": {
      "text/plain": [
       "[4, 6, 7, 213, 45, 564654]"
      ]
     },
     "execution_count": 41,
     "metadata": {},
     "output_type": "execute_result"
    }
   ],
   "source": [
    "a = [4, 6, 7]\n",
    "b = [213, 45, 564654]\n",
    "#concat işlemi yapar\n",
    "a + b"
   ]
  },
  {
   "cell_type": "code",
   "execution_count": 44,
   "id": "f909e9fa-b159-4cfd-b3e1-4d41f26eac1e",
   "metadata": {},
   "outputs": [
    {
     "name": "stdout",
     "output_type": "stream",
     "text": [
      "[[[0. 0. 0. 0.]\n",
      "  [0. 0. 0. 0.]\n",
      "  [0. 0. 0. 0.]]\n",
      "\n",
      " [[0. 0. 0. 0.]\n",
      "  [0. 0. 0. 0.]\n",
      "  [0. 0. 0. 0.]]]\n"
     ]
    }
   ],
   "source": [
    "x = np.zeros((2,3,4))\n",
    "print(x)"
   ]
  },
  {
   "cell_type": "code",
   "execution_count": 45,
   "id": "51eee688-46b7-4b9a-80b5-9865beface64",
   "metadata": {},
   "outputs": [
    {
     "data": {
      "text/plain": [
       "3"
      ]
     },
     "execution_count": 45,
     "metadata": {},
     "output_type": "execute_result"
    }
   ],
   "source": [
    "x.ndim"
   ]
  },
  {
   "cell_type": "code",
   "execution_count": 4,
   "id": "18ca0182-eab0-4913-b186-4cf9f977be72",
   "metadata": {},
   "outputs": [
    {
     "data": {
      "text/plain": [
       "array([ 1,  2,  3,  4,  5,  6,  7,  8,  9, 10])"
      ]
     },
     "execution_count": 4,
     "metadata": {},
     "output_type": "execute_result"
    }
   ],
   "source": [
    "a = np.arange(1, 11)\n",
    "a"
   ]
  },
  {
   "cell_type": "code",
   "execution_count": 12,
   "id": "421cfdab-915d-4433-9460-5d05f28834d2",
   "metadata": {},
   "outputs": [
    {
     "data": {
      "text/plain": [
       "array([[ 1,  2,  3,  4,  5],\n",
       "       [ 6,  7,  8,  9, 10]])"
      ]
     },
     "execution_count": 12,
     "metadata": {},
     "output_type": "execute_result"
    }
   ],
   "source": [
    "a.reshape(2, 5)"
   ]
  },
  {
   "cell_type": "code",
   "execution_count": 7,
   "id": "8371786e-41e5-4774-88d9-373873483be9",
   "metadata": {},
   "outputs": [
    {
     "data": {
      "text/plain": [
       "array([1, 2, 3, 4, 5, 6, 7, 8, 9])"
      ]
     },
     "execution_count": 7,
     "metadata": {},
     "output_type": "execute_result"
    }
   ],
   "source": [
    "a = [1, 2, 3]\n",
    "b = [4, 5, 6]\n",
    "c = [7, 8, 9]\n",
    "#concat birleştirme işlemi\n",
    "np.concatenate([a, b, c])"
   ]
  },
  {
   "cell_type": "code",
   "execution_count": 9,
   "id": "6baf7cd5-1679-454a-a43d-9d90e68788ad",
   "metadata": {},
   "outputs": [
    {
     "data": {
      "text/plain": [
       "[array([0, 1]), array([2, 3, 4, 5]), array([6, 7, 8, 9])]"
      ]
     },
     "execution_count": 9,
     "metadata": {},
     "output_type": "execute_result"
    }
   ],
   "source": [
    "s = [0, 1, 2, 3, 4, 5, 6, 7, 8, 9]\n",
    "#2. ve 6. indexlerden diziyi parçala\n",
    "np.split(s, [2,6])"
   ]
  }
 ],
 "metadata": {
  "kernelspec": {
   "display_name": "Python 3 (ipykernel)",
   "language": "python",
   "name": "python3"
  },
  "language_info": {
   "codemirror_mode": {
    "name": "ipython",
    "version": 3
   },
   "file_extension": ".py",
   "mimetype": "text/x-python",
   "name": "python",
   "nbconvert_exporter": "python",
   "pygments_lexer": "ipython3",
   "version": "3.12.7"
  }
 },
 "nbformat": 4,
 "nbformat_minor": 5
}
