{
 "cells": [
  {
   "cell_type": "code",
   "execution_count": 1,
   "id": "ed3ad9d5-002a-435a-bd90-149090684ef1",
   "metadata": {},
   "outputs": [],
   "source": [
    "import pandas as pd\n",
    "import numpy as np"
   ]
  },
  {
   "cell_type": "code",
   "execution_count": 2,
   "id": "6bc82643-de61-41ef-acad-ed6edcec41b6",
   "metadata": {},
   "outputs": [],
   "source": [
    "df = pd.DataFrame({ 'Veri': [ '1987_E_ABD _1', '1990?_E_ING_1', '1992_K_ABD_2', '1970?_E_ IT_1', '1985_K_I T_2' ]})"
   ]
  },
  {
   "cell_type": "code",
   "execution_count": 3,
   "id": "565cfa2a-c901-45de-a9ab-4a51c0e78da5",
   "metadata": {},
   "outputs": [
    {
     "data": {
      "text/html": [
       "<div>\n",
       "<style scoped>\n",
       "    .dataframe tbody tr th:only-of-type {\n",
       "        vertical-align: middle;\n",
       "    }\n",
       "\n",
       "    .dataframe tbody tr th {\n",
       "        vertical-align: top;\n",
       "    }\n",
       "\n",
       "    .dataframe thead th {\n",
       "        text-align: right;\n",
       "    }\n",
       "</style>\n",
       "<table border=\"1\" class=\"dataframe\">\n",
       "  <thead>\n",
       "    <tr style=\"text-align: right;\">\n",
       "      <th></th>\n",
       "      <th>Veri</th>\n",
       "    </tr>\n",
       "  </thead>\n",
       "  <tbody>\n",
       "    <tr>\n",
       "      <th>0</th>\n",
       "      <td>1987_E_ABD _1</td>\n",
       "    </tr>\n",
       "    <tr>\n",
       "      <th>1</th>\n",
       "      <td>1990?_E_ING_1</td>\n",
       "    </tr>\n",
       "    <tr>\n",
       "      <th>2</th>\n",
       "      <td>1992_K_ABD_2</td>\n",
       "    </tr>\n",
       "    <tr>\n",
       "      <th>3</th>\n",
       "      <td>1970?_E_ IT_1</td>\n",
       "    </tr>\n",
       "    <tr>\n",
       "      <th>4</th>\n",
       "      <td>1985_K_I T_2</td>\n",
       "    </tr>\n",
       "  </tbody>\n",
       "</table>\n",
       "</div>"
      ],
      "text/plain": [
       "            Veri\n",
       "0  1987_E_ABD _1\n",
       "1  1990?_E_ING_1\n",
       "2   1992_K_ABD_2\n",
       "3  1970?_E_ IT_1\n",
       "4   1985_K_I T_2"
      ]
     },
     "execution_count": 3,
     "metadata": {},
     "output_type": "execute_result"
    }
   ],
   "source": [
    "df"
   ]
  },
  {
   "cell_type": "code",
   "execution_count": 8,
   "id": "0348de68-9f5f-4a14-8ecf-5a39f4323ea1",
   "metadata": {},
   "outputs": [
    {
     "data": {
      "text/plain": [
       "0    [1987, E, ABD , 1]\n",
       "1    [1990?, E, ING, 1]\n",
       "2     [1992, K, ABD, 2]\n",
       "3    [1970?, E,  IT, 1]\n",
       "4     [1985, K, I T, 2]\n",
       "Name: Veri, dtype: object"
      ]
     },
     "execution_count": 8,
     "metadata": {},
     "output_type": "execute_result"
    }
   ],
   "source": [
    "df[\"Veri\"].str.split(\"_\")"
   ]
  },
  {
   "cell_type": "code",
   "execution_count": 12,
   "id": "6cf1ce25-a028-4f29-a4ba-e211a1aa3a6a",
   "metadata": {},
   "outputs": [],
   "source": [
    "df = df[\"Veri\"].str.split(\"_\", expand=True) \n",
    "df.columns = [\"Yıl\", \"Cinsiyet\", \"Ülke\", \"Çocuk Sayısı\"]"
   ]
  },
  {
   "cell_type": "code",
   "execution_count": 20,
   "id": "1b735e13-304b-4d0b-8bb2-8c363412d225",
   "metadata": {},
   "outputs": [
    {
     "data": {
      "text/html": [
       "<div>\n",
       "<style scoped>\n",
       "    .dataframe tbody tr th:only-of-type {\n",
       "        vertical-align: middle;\n",
       "    }\n",
       "\n",
       "    .dataframe tbody tr th {\n",
       "        vertical-align: top;\n",
       "    }\n",
       "\n",
       "    .dataframe thead th {\n",
       "        text-align: right;\n",
       "    }\n",
       "</style>\n",
       "<table border=\"1\" class=\"dataframe\">\n",
       "  <thead>\n",
       "    <tr style=\"text-align: right;\">\n",
       "      <th></th>\n",
       "      <th>Yıl</th>\n",
       "      <th>Cinsiyet</th>\n",
       "      <th>Ülke</th>\n",
       "      <th>Çocuk Sayısı</th>\n",
       "    </tr>\n",
       "  </thead>\n",
       "  <tbody>\n",
       "    <tr>\n",
       "      <th>0</th>\n",
       "      <td>1987</td>\n",
       "      <td>E</td>\n",
       "      <td>ABD</td>\n",
       "      <td>1</td>\n",
       "    </tr>\n",
       "    <tr>\n",
       "      <th>1</th>\n",
       "      <td>1990?</td>\n",
       "      <td>E</td>\n",
       "      <td>ING</td>\n",
       "      <td>1</td>\n",
       "    </tr>\n",
       "    <tr>\n",
       "      <th>2</th>\n",
       "      <td>1992</td>\n",
       "      <td>K</td>\n",
       "      <td>ABD</td>\n",
       "      <td>2</td>\n",
       "    </tr>\n",
       "    <tr>\n",
       "      <th>3</th>\n",
       "      <td>1970?</td>\n",
       "      <td>E</td>\n",
       "      <td>IT</td>\n",
       "      <td>1</td>\n",
       "    </tr>\n",
       "    <tr>\n",
       "      <th>4</th>\n",
       "      <td>1985</td>\n",
       "      <td>K</td>\n",
       "      <td>I T</td>\n",
       "      <td>2</td>\n",
       "    </tr>\n",
       "  </tbody>\n",
       "</table>\n",
       "</div>"
      ],
      "text/plain": [
       "     Yıl Cinsiyet  Ülke Çocuk Sayısı\n",
       "0   1987        E  ABD             1\n",
       "1  1990?        E   ING            1\n",
       "2   1992        K   ABD            2\n",
       "3  1970?        E    IT            1\n",
       "4   1985        K   I T            2"
      ]
     },
     "execution_count": 20,
     "metadata": {},
     "output_type": "execute_result"
    }
   ],
   "source": [
    "df"
   ]
  },
  {
   "cell_type": "code",
   "execution_count": 29,
   "id": "e1340a88-9ef6-4282-ae85-80820765409d",
   "metadata": {},
   "outputs": [],
   "source": [
    "df[\"Yıl\"] = df[\"Yıl\"].str.replace(\"?\", \"\") # ? karakterlerini silmek için"
   ]
  },
  {
   "cell_type": "code",
   "execution_count": 24,
   "id": "395c97d8-ddad-4de6-89ab-33cb42048725",
   "metadata": {},
   "outputs": [
    {
     "data": {
      "text/plain": [
       "0    1987\n",
       "1    1990\n",
       "2    1992\n",
       "3    1970\n",
       "4    1985\n",
       "Name: Yıl, dtype: object"
      ]
     },
     "execution_count": 24,
     "metadata": {},
     "output_type": "execute_result"
    }
   ],
   "source": [
    "df[\"Yıl\"]"
   ]
  },
  {
   "cell_type": "code",
   "execution_count": 26,
   "id": "e02fa3cf-b496-414a-932b-797ad82e5c42",
   "metadata": {},
   "outputs": [],
   "source": [
    "df[\"Ülke\"] = df[\"Ülke\"].str.replace(\" \", \"\") #boşlukları silmek için"
   ]
  },
  {
   "cell_type": "code",
   "execution_count": 27,
   "id": "9053a970-d02e-415b-a181-8132f85fc087",
   "metadata": {},
   "outputs": [
    {
     "data": {
      "text/plain": [
       "0    ABD\n",
       "1    ING\n",
       "2    ABD\n",
       "3     IT\n",
       "4     IT\n",
       "Name: Ülke, dtype: object"
      ]
     },
     "execution_count": 27,
     "metadata": {},
     "output_type": "execute_result"
    }
   ],
   "source": [
    "df[\"Ülke\"]"
   ]
  },
  {
   "cell_type": "code",
   "execution_count": 30,
   "id": "0bf43a73-b8f4-4b18-9982-c429be4df31a",
   "metadata": {},
   "outputs": [
    {
     "data": {
      "text/html": [
       "<div>\n",
       "<style scoped>\n",
       "    .dataframe tbody tr th:only-of-type {\n",
       "        vertical-align: middle;\n",
       "    }\n",
       "\n",
       "    .dataframe tbody tr th {\n",
       "        vertical-align: top;\n",
       "    }\n",
       "\n",
       "    .dataframe thead th {\n",
       "        text-align: right;\n",
       "    }\n",
       "</style>\n",
       "<table border=\"1\" class=\"dataframe\">\n",
       "  <thead>\n",
       "    <tr style=\"text-align: right;\">\n",
       "      <th></th>\n",
       "      <th>Yıl</th>\n",
       "      <th>Cinsiyet</th>\n",
       "      <th>Ülke</th>\n",
       "      <th>Çocuk Sayısı</th>\n",
       "    </tr>\n",
       "  </thead>\n",
       "  <tbody>\n",
       "    <tr>\n",
       "      <th>0</th>\n",
       "      <td>1987</td>\n",
       "      <td>E</td>\n",
       "      <td>ABD</td>\n",
       "      <td>1</td>\n",
       "    </tr>\n",
       "    <tr>\n",
       "      <th>1</th>\n",
       "      <td>1990</td>\n",
       "      <td>E</td>\n",
       "      <td>ING</td>\n",
       "      <td>1</td>\n",
       "    </tr>\n",
       "    <tr>\n",
       "      <th>2</th>\n",
       "      <td>1992</td>\n",
       "      <td>K</td>\n",
       "      <td>ABD</td>\n",
       "      <td>2</td>\n",
       "    </tr>\n",
       "    <tr>\n",
       "      <th>3</th>\n",
       "      <td>1970</td>\n",
       "      <td>E</td>\n",
       "      <td>IT</td>\n",
       "      <td>1</td>\n",
       "    </tr>\n",
       "    <tr>\n",
       "      <th>4</th>\n",
       "      <td>1985</td>\n",
       "      <td>K</td>\n",
       "      <td>IT</td>\n",
       "      <td>2</td>\n",
       "    </tr>\n",
       "  </tbody>\n",
       "</table>\n",
       "</div>"
      ],
      "text/plain": [
       "    Yıl Cinsiyet Ülke Çocuk Sayısı\n",
       "0  1987        E  ABD            1\n",
       "1  1990        E  ING            1\n",
       "2  1992        K  ABD            2\n",
       "3  1970        E   IT            1\n",
       "4  1985        K   IT            2"
      ]
     },
     "execution_count": 30,
     "metadata": {},
     "output_type": "execute_result"
    }
   ],
   "source": [
    "df"
   ]
  }
 ],
 "metadata": {
  "kernelspec": {
   "display_name": "Python 3 (ipykernel)",
   "language": "python",
   "name": "python3"
  },
  "language_info": {
   "codemirror_mode": {
    "name": "ipython",
    "version": 3
   },
   "file_extension": ".py",
   "mimetype": "text/x-python",
   "name": "python",
   "nbconvert_exporter": "python",
   "pygments_lexer": "ipython3",
   "version": "3.12.7"
  }
 },
 "nbformat": 4,
 "nbformat_minor": 5
}
